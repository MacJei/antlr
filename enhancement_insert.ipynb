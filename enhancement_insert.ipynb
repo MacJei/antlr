{
 "cells": [
  {
   "cell_type": "code",
   "execution_count": 10,
   "metadata": {},
   "outputs": [],
   "source": [
    "import re\n",
    "import inspect"
   ]
  },
  {
   "cell_type": "code",
   "execution_count": 25,
   "metadata": {},
   "outputs": [],
   "source": [
    "def newSplit(sql_str, dl):    \n",
    "    in_bracket = 0        #indicates if current caracter is within circular bracket\n",
    "    in_quote = 0          #indicates if current caracter is within quote\n",
    "    split_cache = ''      #current split element cache\n",
    "    split_arr = []        #result array\n",
    "\n",
    "    for ch in sql_str:\n",
    "        if ch == '(' :      #update in_bracket value if '(' not in quote\n",
    "            if in_quote == 0:\n",
    "                in_bracket = in_bracket + 1\n",
    "            split_cache = split_cache + ch #add character into split cache\n",
    "        elif ch == ')':     #update in_bracket value if ')' not in quote\n",
    "            if in_quote == 0:\n",
    "                in_bracket = in_bracket - 1\n",
    "            #add character into split cache\n",
    "            split_cache = split_cache + ch\n",
    "        #update in_quote value based on whether single quote found before\n",
    "        elif ch == \"'\":\n",
    "            if in_quote == 0:\n",
    "                in_quote = in_quote + 1\n",
    "            else:\n",
    "                in_quote = in_quote - 1\n",
    "            #add character into split cache\n",
    "            split_cache = split_cache + ch\n",
    "        #if given delimeter found\n",
    "        elif ch == dl:\n",
    "            #if delimeter not in circular bracket or single quote\n",
    "            if in_bracket == 0 and in_quote == 0:\n",
    "                #move split cache content to split array\n",
    "                split_arr.append(split_cache)\n",
    "                #reset split cache\n",
    "                split_cache = ''\n",
    "            else:\n",
    "                #add character into split cache\n",
    "                split_cache = split_cache + ch\n",
    "        else:\n",
    "            #add character into split cache\n",
    "            split_cache = split_cache + ch\n",
    "    #add remaining characters in output list\n",
    "    split_arr.append(split_cache)\n",
    "    return split_arr  "
   ]
  },
  {
   "cell_type": "code",
   "execution_count": 26,
   "metadata": {},
   "outputs": [],
   "source": [
    "def newLower(in_str):\n",
    "    qt_str=[]\n",
    "    #make list substrings with in quotes\n",
    "    qt_str=re.findall(r'\\'(.*?)\\'',in_str)\n",
    "    #replace the quoted substrings with special string\n",
    "    new_str = re.sub(r'\\'(.*?)\\'', r'>-o-<', in_str)\n",
    "    #apply lowercase function on replaced string\n",
    "    new_str = new_str.lower()\n",
    "    #replace spaecial string with corresponding quoted substring\n",
    "    for element in qt_str:\n",
    "        new_str = re.sub(r'>-o-<', \"'\" + element + \"'\", new_str, 1)\n",
    "    return new_str\n"
   ]
  },
  {
   "cell_type": "code",
   "execution_count": 30,
   "metadata": {},
   "outputs": [],
   "source": [
    "def lineno():\n",
    "    \"\"\"Returns the current line number in our program.\"\"\"\n",
    "    return inspect.currentframe().f_back.f_lineno"
   ]
  },
  {
   "cell_type": "code",
   "execution_count": 112,
   "metadata": {},
   "outputs": [
    {
     "name": "stdout",
     "output_type": "stream",
     "text": [
      "13\n",
      "16\n",
      "27\n",
      "32\n",
      "35\n",
      "38\n",
      "42\n",
      "48\n",
      "Error occurred while converting below INSERT statement 89\n",
      "\n"
     ]
    }
   ],
   "source": [
    "        ins_sel = re.match(r'^\\bINSERT\\s+(?:INTO\\s+)?([\\w\\[\\]#\\.]+).*\\bSELECT\\s+.*\\bFROM', stmt, re.S|re.I)\n",
    "        ins_val = re.match(r'^\\bINSERT\\s+(?:INTO\\s+)?([\\w\\[\\]#\\.]+).*?\\bVALUES\\s*\\(', stmt, re.S|re.I)\n",
    "        if ins_sel:         \n",
    "            try:\n",
    "                dest_tbl = ins_sel.group(1).strip()\n",
    "                #cnv_ds.cntx.logger.add_log('INFO', f'Converting INSERT INTO statement by SELECT. Inserting into {dest_tbl}')\n",
    "                if dest_tbl:\n",
    "                    #get table df name\n",
    "                    table_df = dest_tbl+'_df'\n",
    "                \n",
    "                #Check if Select is present in Source of the Insert statement \n",
    "                src_select = re.search(dest_tbl + r'(.*)[\\(]?\\s*\\bSELECT\\s+(.)*\\bFROM\\s+((\\w*)[\\.]?(\\w*)[\\.]?(\\w*))', stmt, re.S|re.I)\n",
    "                print(lineno())\n",
    "                if src_select:\n",
    "                    #Check if no column name is specified , only Select * is present\n",
    "                    print(lineno())\n",
    "                    select_star = re.search(dest_tbl + r'\\s*[\\(]?\\s*\\bSELECT\\s+[\\*\\s]?\\s*\\bFROM\\s+((\\w*)[\\.]?(\\w*)[\\.]?(\\w*))', stmt, re.S|re.I)\n",
    "                    if select_star:\n",
    "                        #get the select * string\n",
    "                        print(lineno())\n",
    "                        select_str = re.split(\"SELECT\",stmt,1, re.I)     \n",
    "                        if select_str.strip()[-1] == ';':\n",
    "                            select_str = select_str.strip()[:-1]\n",
    "                        select_str = ('select' + (select_str[1])).strip().strip(')')\n",
    "                        print(lineno())\n",
    "                    else:\n",
    "                        print(lineno())\n",
    "                        #when column names are specified in the select list\n",
    "                        if re.search(r'(.)\\s*SELECT\\b', stmt, re.S|re.I).group(1) == '(':\n",
    "                        #replace starting bracket with special string\n",
    "                            stmt = re.sub(r'\\((\\s*)(SELECT\\b)', r'‹\\1\\2', stmt, 1, flags=re.S|re.I)\n",
    "                        print(lineno())\n",
    "                        #replace FROM keyword with special character \n",
    "                        stmt = re.sub(r\"\\bFROM\\b\", 'ƒ', stmt, flags=re.S|re.I)\n",
    "                        print(lineno())\n",
    "                        #custom split insert statement \n",
    "                        stmt_part = newSplit(stmt, 'ƒ')\n",
    "                        print(lineno())\n",
    "                        #Keeping the first part of stmt_part[0] and appending rest of the array strings in stmt_part[1]\n",
    "                        for i in range(2,len(stmt_part)):\n",
    "                             stmt_part[1]=stmt_part[1]+' ƒ '+stmt_part[i]\n",
    "                        print(lineno())\n",
    "                    \n",
    "                        #Replacing special character to from in first part of the split\n",
    "                        stmt_part_1 = re.sub(r'ƒ', 'from', re.sub(r'‹', r'(', stmt_part[0], flags=re.S|re.I), flags=re.S|re.I)\n",
    "                        #Replacing special character to from in second part of the split\n",
    "                        stmt_part_2 = re.sub(r'ƒ', 'from', re.sub(r'‹', r'(', stmt_part[1], flags=re.S|re.I), flags=re.S|re.I)\n",
    "                        print(lineno())\n",
    "                        #get Destination table column list\n",
    "                        col_list_str = re.search(dest_tbl + r'\\s*\\((.*?)\\)[\\(\\s]*\\bSELECT\\b', stmt_part_1, re.S|re.I).group(1)\n",
    "                        col_list = newSplit(col_list_str, ',')\n",
    "                        print(lineno())\n",
    "                        #get insert values from the select list\n",
    "                        val_list_str = re.search(r'\\bSELECT\\b\\s+(.*)', stmt_part_1, re.S|re.I).group(1)\n",
    "                        val_list = newSplit(val_list_str, ',')\n",
    "                        print(lineno())\n",
    "                        cnct_str = ''\n",
    "                        for i in range(len(col_list)):\n",
    "                            col = col_list[i].strip()\n",
    "                            val = val_list[i].strip()\n",
    "\n",
    "                            #remove alias from column value\n",
    "                            if re.match(r'^\\bCASE\\b', val, re.S|re.I):\n",
    "                                #ignore END keyword as alias for column value with CASE statement\n",
    "                                val = re.sub(r'(?<=END)\\s*(AS)?[ \\t]+\\w+$', '', val, flags=re.S|re.I)\n",
    "                            else:\n",
    "                                val = re.sub(r'(\\s*AS)?[ \\t]+[a-zA-Z]\\w+$', '', val, flags=re.S|re.I)\n",
    "                                \n",
    "                            cnct_str += val + ' as ' + col + ',\\n'                                \n",
    "                            \n",
    "                        cnct_str = cnct_str[:-2]\n",
    "                        select_str = 'select ' + cnct_str + \"\\nfrom \" + stmt_part_2\n",
    "                    \n",
    "                    #table to dataframe and replace variables\n",
    "                    select_str = util.replaceTableWithDF(cnv_ds, select_str)\n",
    "                    select_str = self.replaceVariables(cnv_ds, select_str)\n",
    "                    \n",
    "                    table_df_tmp = table_df + '_1'\n",
    "                    #pyspark code to remove deleted records from data frame\n",
    "                    cnv_code += f\"{table_df_tmp} = spark.sql({select_str})\\n\"\n",
    "                    cnv_code += f\"mod_df['{table_df}'] = mod_df['{table_df}'].union({table_df_tmp})\\n\"\n",
    "                    cnv_code += f\"mod_df['{table_df}'].createOrReplaceTempView('{table_df}')\\n\" \n",
    "                    cnv_code += f\"rowcount_df = {table_df_tmp}\\n\\n\"                    \n",
    "                    print(lineno())\n",
    "            except Exception as e:\n",
    "                #cnv_ds.cntx.logger.add_log('ERROR','Error occurred while converting below INSERT statement,')\n",
    "                #cnv_ds.cntx.logger.add_log_details(self.original_text)  \n",
    "                #cnv_ds.cntx.logger.add_log_details(str(e))\n",
    "                print('Error occurred while converting below INSERT statement',lineno())\n",
    "                cnv_code = ''\n",
    "        \n",
    "        if ins_val:\n",
    "            try:\n",
    "                #get tablename, column and value list\n",
    "                match_grp = re.match(r'INSERT\\s+(?:INTO\\s+)?([\\w\\[\\]#\\.]+)\\s+\\(?(.*?)\\)?\\s*VALUES\\s*\\((.*?)\\);', stmt, re.S|re.I)\n",
    "                table = match_grp.group(1).strip()\n",
    "                cols = match_grp.group(2).strip()\n",
    "                vals = match_grp.group(3).strip()\n",
    "                \n",
    "                print(f'Converting INSERT INTO statement by VALUE. Inserting into {table}')\n",
    "                print(inspect.currentframe().f_back.f_lineno)\n",
    "                print('\\n')\n",
    "                #get table df name\n",
    "                table_df = cnv_ds.table_df_map[table]\n",
    "    \n",
    "                #create insert column list\n",
    "                if cols:\n",
    "                    cols = re.sub(r'\\s', '', cols, flags=re.S|re.I)\n",
    "                    col_list = newSplit(cols, ',')\n",
    "                else:\n",
    "                    #cnv_ds.cntx.logger.add_log('ERROR','Can not convert insert statement if column list not specified')\n",
    "                    print('Can not convert insert statement if column list not specified',lineno())\n",
    "    \n",
    "                #create insert value list\n",
    "                vals = re.sub(r'[\\r\\n]+', '', vals, flags=re.S|re.I) \n",
    "                val_list = newSplit(vals, ',')\n",
    "    \n",
    "                #create select statement\n",
    "                select_str = 'select '\n",
    "                for i in range(len(col_list)):\n",
    "                    select_str += val_list[i] + ' as ' + col_list[i] + ',\\n'\n",
    "                select_str = select_str[:-2]\n",
    "                \n",
    "                #replace db table names with corresponding data frame name\n",
    "                #select_str = util.replaceTableWithDF(cnv_ds, select_str)\n",
    "                #select_str = self.replaceVariables(cnv_ds, select_str)\n",
    "                    \n",
    "                table_df_tmp = table_df + '_1'\n",
    "                #pyspark code to remove deleted records from data frame\n",
    "                cnv_code += f\"{table_df_tmp} = spark.sql({select_str})\\n\"\n",
    "                cnv_code += f\"mod_df['{table_df}'] = mod_df['{table_df}'].union({table_df_tmp})\\n\"\n",
    "                cnv_code += f\"mod_df['{table_df}'].createOrReplaceTempView('{table_df}')\\n\" \n",
    "                cnv_code += f\"rowcount_df = {table_df_tmp}\\n\\n\"\n",
    "\n",
    "            except Exception as e:\n",
    "                print('Error occurred while converting below INSERT statement',lineno())\n",
    "                #cnv_ds.cntx.logger.add_log_details(self.original_text)\n",
    "                #cnv_ds.cntx.logger.add_log_details(str(e))                \n",
    "                cnv_code = ''\n",
    "            \n",
    "        print(cnv_code)    "
   ]
  },
  {
   "cell_type": "code",
   "execution_count": 111,
   "metadata": {},
   "outputs": [],
   "source": [
    "stmt='''INSERT INTO [LOOKUP].[MASTERCONTRACT] (\n",
    "                [Key],\n",
    "                [Changed],\n",
    "                [CIS_ID],\n",
    "                LOADCONTROLCREATEID,\n",
    "                LOADCONTROLUPDATEID)\n",
    "            SELECT  DISTINCT \n",
    "                '<Key>'\n",
    "                    + '<DEBTORNUM>'+CONVERT(VARCHAR(20),A.DEBTORNUM)+'</DEBTORNUM>'\n",
    "                    +'<PREMNUM>'+CONVERT(VARCHAR(20),A.PREMNUM)+'</PREMNUM>'\n",
    "                    +'<SUPPLYREQDATE>'+CONVERT(VARCHAR(20),A.SUPPLYREQDATE)+'</SUPPLYREQDATE>'\n",
    "                +'</Key>',\n",
    "                1 AS Changed,\n",
    "                1 AS CIS_ID,\n",
    "                A.LOADCONTROLCREATEID,\n",
    "                A.LOADCONTROLCREATEID\n",
    "            FROM    ICMSTAGE_PEACETX.PM_E_CONSPREM_TB A\n",
    "            LEFT    JOIN ICMTRANS_PEACETX.vw_MasterContractLookup B\n",
    "                ON  A.[DEBTORNUM] = B.[DEBTORNUM]\n",
    "                AND A.[PREMNUM] = B.[PREMNUM]\n",
    "                AND A.SUPPLYREQDATE = B.SUPPLYREQDATE \n",
    "            WHERE   B.[DEBTORNUM]       IS NULL;'''"
   ]
  },
  {
   "cell_type": "code",
   "execution_count": 63,
   "metadata": {},
   "outputs": [],
   "source": [
    "src_select = re.search(dest_tbl + r'(.*)[\\(]?\\s*\\bSELECT\\s+(.)*\\bFROM\\s+((\\w*)[\\.]?(\\w*)[\\.]?(\\w*))', stmt, re.S|re.I)\n",
    "src_select"
   ]
  },
  {
   "cell_type": "code",
   "execution_count": 81,
   "metadata": {},
   "outputs": [],
   "source": [
    "        ins_sel = re.match(r'^\\bINSERT\\s+(?:INTO\\s+)?([\\w\\[\\]#\\.]+).*\\bSELECT\\s+.*\\bFROM', stmt, re.S|re.I)\n",
    "        ins_val = re.match(r'^\\bINSERT\\s+(?:INTO\\s+)?([\\w\\[\\]#\\.]+).*?\\bVALUES\\s*\\(', stmt, re.S|re.I)"
   ]
  },
  {
   "cell_type": "code",
   "execution_count": 86,
   "metadata": {},
   "outputs": [
    {
     "name": "stdout",
     "output_type": "stream",
     "text": [
      "None\n"
     ]
    }
   ],
   "source": [
    "print(ins_val)"
   ]
  },
  {
   "cell_type": "code",
   "execution_count": 87,
   "metadata": {},
   "outputs": [
    {
     "name": "stdout",
     "output_type": "stream",
     "text": [
      "<re.Match object; span=(0, 679), match=\"INSERT INTO [LOOKUP].[MASTERCONTRACT] (\\n        >\n"
     ]
    }
   ],
   "source": [
    "print(ins_sel)"
   ]
  },
  {
   "cell_type": "code",
   "execution_count": 89,
   "metadata": {},
   "outputs": [
    {
     "data": {
      "text/plain": [
       "'[LOOKUP].[MASTERCONTRACT]'"
      ]
     },
     "execution_count": 89,
     "metadata": {},
     "output_type": "execute_result"
    }
   ],
   "source": [
    "                dest_tbl = ins_sel.group(1).strip()\n",
    "                #cnv_ds.cntx.logger.add_log('INFO', f'Converting INSERT INTO statement by SELECT. Inserting into {dest_tbl}')\n",
    "                dest_tbl"
   ]
  },
  {
   "cell_type": "code",
   "execution_count": 90,
   "metadata": {},
   "outputs": [],
   "source": [
    "                    #get table df name\n",
    "                    table_df = dest_tbl+'_df'           "
   ]
  },
  {
   "cell_type": "code",
   "execution_count": 93,
   "metadata": {},
   "outputs": [
    {
     "data": {
      "text/plain": [
       "<re.Match object; span=(13, 716), match=\"LOOKUP].[MASTERCONTRACT] (\\n                [Key]>"
      ]
     },
     "execution_count": 93,
     "metadata": {},
     "output_type": "execute_result"
    }
   ],
   "source": [
    "#Check if Select is present in Source of the Insert statement \n",
    "src_select = re.search(dest_tbl + r'(.*)[\\(]?\\s*\\bSELECT\\s+(.)*\\bFROM\\s+((\\w*)[\\.]?(\\w*)[\\.]?(\\w*))', stmt, re.S|re.I)\n",
    "src_select"
   ]
  },
  {
   "cell_type": "code",
   "execution_count": 94,
   "metadata": {},
   "outputs": [],
   "source": [
    "select_star = re.search(dest_tbl + r'\\s*[\\(]?\\s*\\bSELECT\\s+[\\*\\s]?\\s*\\bFROM\\s+((\\w*)[\\.]?(\\w*)[\\.]?(\\w*))', stmt, re.S|re.I) \n",
    "select_star  "
   ]
  },
  {
   "cell_type": "code",
   "execution_count": 102,
   "metadata": {},
   "outputs": [],
   "source": [
    "                        if re.search(r'(.)\\s*SELECT\\b', stmt, re.S|re.I).group(1) == '(':\n",
    "                        #replace starting bracket with special string\n",
    "                            stmt = re.sub(r'\\((\\s*)(SELECT\\b)', r'‹\\1\\2', stmt, 1, flags=re.S|re.I)"
   ]
  },
  {
   "cell_type": "code",
   "execution_count": 103,
   "metadata": {},
   "outputs": [
    {
     "data": {
      "text/plain": [
       "\"INSERT INTO [LOOKUP].[MASTERCONTRACT] (\\n                [Key],\\n                [Changed],\\n                [CIS_ID],\\n                LOADCONTROLCREATEID,\\n                LOADCONTROLUPDATEID)\\n            SELECT  DISTINCT \\n                '<Key>'\\n                    + '<DEBTORNUM>'+CONVERT(VARCHAR(20),A.DEBTORNUM)+'</DEBTORNUM>'\\n                    +'<PREMNUM>'+CONVERT(VARCHAR(20),A.PREMNUM)+'</PREMNUM>'\\n                    +'<SUPPLYREQDATE>'+CONVERT(VARCHAR(20),A.SUPPLYREQDATE)+'</SUPPLYREQDATE>'\\n                +'</Key>',\\n                1 AS Changed,\\n                1 AS CIS_ID,\\n                A.LOADCONTROLCREATEID,\\n                A.LOADCONTROLCREATEID\\n            ƒ    ICMSTAGE_PEACETX.PM_E_CONSPREM_TB A\\n            LEFT    JOIN ICMTRANS_PEACETX.vw_MasterContractLookup B\\n                ON  A.[DEBTORNUM] = B.[DEBTORNUM]\\n                AND A.[PREMNUM] = B.[PREMNUM]\\n                AND A.SUPPLYREQDATE = B.SUPPLYREQDATE \\n            WHERE   B.[DEBTORNUM]       IS NULL;\""
      ]
     },
     "execution_count": 103,
     "metadata": {},
     "output_type": "execute_result"
    }
   ],
   "source": [
    "stmt"
   ]
  },
  {
   "cell_type": "code",
   "execution_count": 107,
   "metadata": {},
   "outputs": [
    {
     "data": {
      "text/plain": [
       "[\"INSERT INTO [LOOKUP].[MASTERCONTRACT] (\\n                [Key],\\n                [Changed],\\n                [CIS_ID],\\n                LOADCONTROLCREATEID,\\n                LOADCONTROLUPDATEID)\\n            SELECT  DISTINCT \\n                '<Key>'\\n                    + '<DEBTORNUM>'+CONVERT(VARCHAR(20),A.DEBTORNUM)+'</DEBTORNUM>'\\n                    +'<PREMNUM>'+CONVERT(VARCHAR(20),A.PREMNUM)+'</PREMNUM>'\\n                    +'<SUPPLYREQDATE>'+CONVERT(VARCHAR(20),A.SUPPLYREQDATE)+'</SUPPLYREQDATE>'\\n                +'</Key>',\\n                1 AS Changed,\\n                1 AS CIS_ID,\\n                A.LOADCONTROLCREATEID,\\n                A.LOADCONTROLCREATEID\\n            \",\n",
       " '    ICMSTAGE_PEACETX.PM_E_CONSPREM_TB A\\n            LEFT    JOIN ICMTRANS_PEACETX.vw_MasterContractLookup B\\n                ON  A.[DEBTORNUM] = B.[DEBTORNUM]\\n                AND A.[PREMNUM] = B.[PREMNUM]\\n                AND A.SUPPLYREQDATE = B.SUPPLYREQDATE \\n            WHERE   B.[DEBTORNUM]       IS NULL;']"
      ]
     },
     "execution_count": 107,
     "metadata": {},
     "output_type": "execute_result"
    }
   ],
   "source": [
    "                        stmt = re.sub(r\"\\bFROM\\b\", 'ƒ', stmt, flags=re.S|re.I)\n",
    "                        stmt\n",
    "                        stmt_part = newSplit(stmt, 'ƒ')\n",
    "                        stmt_part"
   ]
  },
  {
   "cell_type": "code",
   "execution_count": 113,
   "metadata": {},
   "outputs": [
    {
     "data": {
      "text/plain": [
       "\"INSERT INTO [LOOKUP].[MASTERCONTRACT] (\\n                [Key],\\n                [Changed],\\n                [CIS_ID],\\n                LOADCONTROLCREATEID,\\n                LOADCONTROLUPDATEID)\\n            SELECT  DISTINCT \\n                '<Key>'\\n                    + '<DEBTORNUM>'+CONVERT(VARCHAR(20),A.DEBTORNUM)+'</DEBTORNUM>'\\n                    +'<PREMNUM>'+CONVERT(VARCHAR(20),A.PREMNUM)+'</PREMNUM>'\\n                    +'<SUPPLYREQDATE>'+CONVERT(VARCHAR(20),A.SUPPLYREQDATE)+'</SUPPLYREQDATE>'\\n                +'</Key>',\\n                1 AS Changed,\\n                1 AS CIS_ID,\\n                A.LOADCONTROLCREATEID,\\n                A.LOADCONTROLCREATEID\\n            \""
      ]
     },
     "execution_count": 113,
     "metadata": {},
     "output_type": "execute_result"
    }
   ],
   "source": [
    "                        #Keeping the first part of stmt_part[0] and appending rest of the array strings in stmt_part[1]\n",
    "                        for i in range(2,len(stmt_part)):\n",
    "                             stmt_part[1]=stmt_part[1]+' ƒ '+stmt_part[i]\n",
    "                        #Replacing special character to from in first part of the split\n",
    "                        stmt_part_1 = re.sub(r'ƒ', 'from', re.sub(r'‹', r'(', stmt_part[0], flags=re.S|re.I), flags=re.S|re.I)\n",
    "                        #Replacing special character to from in second part of the split\n",
    "                        stmt_part_2 = re.sub(r'ƒ', 'from', re.sub(r'‹', r'(', stmt_part[1], flags=re.S|re.I), flags=re.S|re.I)\n",
    "                        "
   ]
  },
  {
   "cell_type": "code",
   "execution_count": 126,
   "metadata": {},
   "outputs": [
    {
     "name": "stdout",
     "output_type": "stream",
     "text": [
      "INSERT INTO [LOOKUP].[MASTERCONTRACT] (\n",
      "                [Key],\n",
      "                [Changed],\n",
      "                [CIS_ID],\n",
      "                LOADCONTROLCREATEID,\n",
      "                LOADCONTROLUPDATEID)\n",
      "            SELECT  DISTINCT \n",
      "                '<Key>'\n",
      "                    + '<DEBTORNUM>'+CONVERT(VARCHAR(20),A.DEBTORNUM)+'</DEBTORNUM>'\n",
      "                    +'<PREMNUM>'+CONVERT(VARCHAR(20),A.PREMNUM)+'</PREMNUM>'\n",
      "                    +'<SUPPLYREQDATE>'+CONVERT(VARCHAR(20),A.SUPPLYREQDATE)+'</SUPPLYREQDATE>'\n",
      "                +'</Key>',\n",
      "                1 AS Changed,\n",
      "                1 AS CIS_ID,\n",
      "                A.LOADCONTROLCREATEID,\n",
      "                A.LOADCONTROLCREATEID\n",
      "            \n"
     ]
    }
   ],
   "source": [
    "print(stmt_part_1)"
   ]
  },
  {
   "cell_type": "code",
   "execution_count": 114,
   "metadata": {},
   "outputs": [
    {
     "data": {
      "text/plain": [
       "'    ICMSTAGE_PEACETX.PM_E_CONSPREM_TB A\\n            LEFT    JOIN ICMTRANS_PEACETX.vw_MasterContractLookup B\\n                ON  A.[DEBTORNUM] = B.[DEBTORNUM]\\n                AND A.[PREMNUM] = B.[PREMNUM]\\n                AND A.SUPPLYREQDATE = B.SUPPLYREQDATE \\n            WHERE   B.[DEBTORNUM]       IS NULL;'"
      ]
     },
     "execution_count": 114,
     "metadata": {},
     "output_type": "execute_result"
    }
   ],
   "source": [
    "stmt_part_2"
   ]
  },
  {
   "cell_type": "code",
   "execution_count": 116,
   "metadata": {
    "scrolled": true
   },
   "outputs": [
    {
     "data": {
      "text/plain": [
       "'[LOOKUP].[MASTERCONTRACT]'"
      ]
     },
     "execution_count": 116,
     "metadata": {},
     "output_type": "execute_result"
    }
   ],
   "source": [
    "dest_tbl"
   ]
  },
  {
   "cell_type": "code",
   "execution_count": 270,
   "metadata": {},
   "outputs": [
    {
     "name": "stdout",
     "output_type": "stream",
     "text": [
      "['com', 'in', 'com', 'biz']\n"
     ]
    }
   ],
   "source": [
    "result=re.findall(r'@\\w+.(\\w+)','abc.test@gmail.com, xyz@test.in, test.first@analyticsvidhya.com, first.test@rest.biz')\n",
    "print(result)"
   ]
  },
  {
   "cell_type": "code",
   "execution_count": 287,
   "metadata": {},
   "outputs": [
    {
     "data": {
      "text/plain": [
       "'MASTERCONTRACT'"
      ]
     },
     "execution_count": 287,
     "metadata": {},
     "output_type": "execute_result"
    }
   ],
   "source": [
    "result=re.search(r'\\[\\w+\\].\\[(\\w+)\\]',dest_tbl,re.S|re.I).group(1)\n",
    "result"
   ]
  },
  {
   "cell_type": "code",
   "execution_count": 162,
   "metadata": {
    "scrolled": true
   },
   "outputs": [
    {
     "ename": "AttributeError",
     "evalue": "'NoneType' object has no attribute 'group'",
     "output_type": "error",
     "traceback": [
      "\u001b[1;31m---------------------------------------------------------------------------\u001b[0m",
      "\u001b[1;31mAttributeError\u001b[0m                            Traceback (most recent call last)",
      "\u001b[1;32m<ipython-input-162-9c0367b767e7>\u001b[0m in \u001b[0;36m<module>\u001b[1;34m()\u001b[0m\n\u001b[1;32m----> 1\u001b[1;33m \u001b[0mcol_list_str\u001b[0m \u001b[1;33m=\u001b[0m \u001b[0mre\u001b[0m\u001b[1;33m.\u001b[0m\u001b[0msearch\u001b[0m\u001b[1;33m(\u001b[0m\u001b[0mdest_tbl\u001b[0m\u001b[1;33m+\u001b[0m\u001b[1;34mr'\\s.*\\w.*'\u001b[0m\u001b[1;33m,\u001b[0m \u001b[0mstmt_part_1\u001b[0m\u001b[1;33m,\u001b[0m \u001b[0mre\u001b[0m\u001b[1;33m.\u001b[0m\u001b[0mS\u001b[0m\u001b[1;33m|\u001b[0m\u001b[0mre\u001b[0m\u001b[1;33m.\u001b[0m\u001b[0mI\u001b[0m\u001b[1;33m)\u001b[0m\u001b[1;33m.\u001b[0m\u001b[0mgroup\u001b[0m\u001b[1;33m(\u001b[0m\u001b[1;36m1\u001b[0m\u001b[1;33m)\u001b[0m\u001b[1;33m\u001b[0m\u001b[0m\n\u001b[0m\u001b[0;32m      2\u001b[0m \u001b[0mcol_list_str\u001b[0m\u001b[1;33m\u001b[0m\u001b[0m\n",
      "\u001b[1;31mAttributeError\u001b[0m: 'NoneType' object has no attribute 'group'"
     ]
    }
   ],
   "source": [
    "col_list_str = re.search(dest_tbl+r'\\s.*\\w.*', stmt_part_1, re.S|re.I).group(1)\n",
    "col_list_str"
   ]
  },
  {
   "cell_type": "code",
   "execution_count": 163,
   "metadata": {
    "scrolled": true
   },
   "outputs": [
    {
     "data": {
      "text/plain": [
       "<re.Match object; span=(37, 208), match=' (\\n                [Key],\\n                [Chan>"
      ]
     },
     "execution_count": 163,
     "metadata": {},
     "output_type": "execute_result"
    }
   ],
   "source": [
    "col_list_str = re.search( r'\\s*\\((.*?)\\)[\\(\\s]*\\bSELECT\\b', stmt_part_1, re.S|re.I)\n",
    "col_list_str"
   ]
  },
  {
   "cell_type": "code",
   "execution_count": 165,
   "metadata": {},
   "outputs": [
    {
     "data": {
      "text/plain": [
       "<re.Match object; span=(0, 208), match='INSERT INTO [LOOKUP].[MASTERCONTRACT] (\\n        >"
      ]
     },
     "execution_count": 165,
     "metadata": {},
     "output_type": "execute_result"
    }
   ],
   "source": [
    "col_list_str = re.search( r'\\s*(\\w.*?)\\s.*\\bSELECT\\b', stmt_part_1, re.S|re.I)\n",
    "col_list_str"
   ]
  },
  {
   "cell_type": "code",
   "execution_count": 174,
   "metadata": {
    "scrolled": true
   },
   "outputs": [
    {
     "ename": "AttributeError",
     "evalue": "'NoneType' object has no attribute 'group'",
     "output_type": "error",
     "traceback": [
      "\u001b[1;31m---------------------------------------------------------------------------\u001b[0m",
      "\u001b[1;31mAttributeError\u001b[0m                            Traceback (most recent call last)",
      "\u001b[1;32m<ipython-input-174-48bcfe30f783>\u001b[0m in \u001b[0;36m<module>\u001b[1;34m()\u001b[0m\n\u001b[1;32m----> 1\u001b[1;33m \u001b[0mtbl_alias\u001b[0m \u001b[1;33m=\u001b[0m \u001b[0mre\u001b[0m\u001b[1;33m.\u001b[0m\u001b[0msearch\u001b[0m\u001b[1;33m(\u001b[0m\u001b[1;34mr'\\b'\u001b[0m\u001b[1;33m+\u001b[0m\u001b[0mdest_tbl\u001b[0m\u001b[1;33m+\u001b[0m\u001b[1;34mr'\\b\\s.*(.*?)\\s+(?=SELECT)'\u001b[0m\u001b[1;33m,\u001b[0m \u001b[0mstmt_part_1\u001b[0m\u001b[1;33m,\u001b[0m \u001b[0mre\u001b[0m\u001b[1;33m.\u001b[0m\u001b[0mS\u001b[0m\u001b[1;33m|\u001b[0m\u001b[0mre\u001b[0m\u001b[1;33m.\u001b[0m\u001b[0mI\u001b[0m\u001b[1;33m)\u001b[0m\u001b[1;33m.\u001b[0m\u001b[0mgroup\u001b[0m\u001b[1;33m(\u001b[0m\u001b[1;36m1\u001b[0m\u001b[1;33m)\u001b[0m\u001b[1;33m.\u001b[0m\u001b[0mstrip\u001b[0m\u001b[1;33m(\u001b[0m\u001b[1;33m)\u001b[0m\u001b[1;33m\u001b[0m\u001b[0m\n\u001b[0m",
      "\u001b[1;31mAttributeError\u001b[0m: 'NoneType' object has no attribute 'group'"
     ]
    }
   ],
   "source": [
    "tbl_alias = re.search(r'\\b'+dest_tbl+r'\\b\\s.*(.*?)\\s+(?=SELECT)', stmt_part_1, re.S|re.I).group(1).strip()"
   ]
  },
  {
   "cell_type": "code",
   "execution_count": 281,
   "metadata": {},
   "outputs": [
    {
     "ename": "AttributeError",
     "evalue": "'NoneType' object has no attribute 'strip'",
     "output_type": "error",
     "traceback": [
      "\u001b[1;31m---------------------------------------------------------------------------\u001b[0m",
      "\u001b[1;31mAttributeError\u001b[0m                            Traceback (most recent call last)",
      "\u001b[1;32m<ipython-input-281-a96b383ac7d6>\u001b[0m in \u001b[0;36m<module>\u001b[1;34m()\u001b[0m\n\u001b[1;32m----> 1\u001b[1;33m \u001b[0mupd_set\u001b[0m \u001b[1;33m=\u001b[0m \u001b[0mre\u001b[0m\u001b[1;33m.\u001b[0m\u001b[0msearch\u001b[0m\u001b[1;33m(\u001b[0m\u001b[1;34mr'\\b(?<=[MASTERCONTRACT])\\s.*\\((\\w.*)?\\s.*(?=SELECT)'\u001b[0m\u001b[1;33m,\u001b[0m \u001b[0mstmt_part_1\u001b[0m\u001b[1;33m,\u001b[0m \u001b[0mre\u001b[0m\u001b[1;33m.\u001b[0m\u001b[0mS\u001b[0m\u001b[1;33m|\u001b[0m\u001b[0mre\u001b[0m\u001b[1;33m.\u001b[0m\u001b[0mI\u001b[0m\u001b[1;33m)\u001b[0m\u001b[1;33m.\u001b[0m\u001b[0mgroup\u001b[0m\u001b[1;33m(\u001b[0m\u001b[1;36m1\u001b[0m\u001b[1;33m)\u001b[0m\u001b[1;33m.\u001b[0m\u001b[0mstrip\u001b[0m\u001b[1;33m(\u001b[0m\u001b[1;33m)\u001b[0m\u001b[1;33m\u001b[0m\u001b[0m\n\u001b[0m\u001b[0;32m      2\u001b[0m \u001b[0mprint\u001b[0m\u001b[1;33m(\u001b[0m\u001b[0mupd_set\u001b[0m\u001b[1;33m)\u001b[0m\u001b[1;33m\u001b[0m\u001b[0m\n",
      "\u001b[1;31mAttributeError\u001b[0m: 'NoneType' object has no attribute 'strip'"
     ]
    }
   ],
   "source": [
    "upd_set = re.search(r'\\b(?<=[MASTERCONTRACT])\\s.*\\((\\w.*)?\\s.*(?=SELECT)', stmt_part_1, re.S|re.I).group(1).strip()\n",
    "print(upd_set)"
   ]
  },
  {
   "cell_type": "code",
   "execution_count": 328,
   "metadata": {},
   "outputs": [
    {
     "ename": "AttributeError",
     "evalue": "'NoneType' object has no attribute 'group'",
     "output_type": "error",
     "traceback": [
      "\u001b[1;31m---------------------------------------------------------------------------\u001b[0m",
      "\u001b[1;31mAttributeError\u001b[0m                            Traceback (most recent call last)",
      "\u001b[1;32m<ipython-input-328-df52d5228bbc>\u001b[0m in \u001b[0;36m<module>\u001b[1;34m()\u001b[0m\n\u001b[1;32m----> 1\u001b[1;33m \u001b[0mupd_table_alias\u001b[0m \u001b[1;33m=\u001b[0m \u001b[0mre\u001b[0m\u001b[1;33m.\u001b[0m\u001b[0msearch\u001b[0m\u001b[1;33m(\u001b[0m\u001b[1;34mr'(?<=MASTERCONTRACT)\\s.*\\w.*(?=SELECT)'\u001b[0m\u001b[1;33m,\u001b[0m \u001b[0mstmt_part_1\u001b[0m\u001b[1;33m,\u001b[0m \u001b[0mre\u001b[0m\u001b[1;33m.\u001b[0m\u001b[0mS\u001b[0m\u001b[1;33m|\u001b[0m\u001b[0mre\u001b[0m\u001b[1;33m.\u001b[0m\u001b[0mI\u001b[0m\u001b[1;33m)\u001b[0m\u001b[1;33m.\u001b[0m\u001b[0mgroup\u001b[0m\u001b[1;33m(\u001b[0m\u001b[1;33m)\u001b[0m\u001b[1;33m.\u001b[0m\u001b[0mstrip\u001b[0m\u001b[1;33m(\u001b[0m\u001b[1;33m)\u001b[0m\u001b[1;33m\u001b[0m\u001b[0m\n\u001b[0m\u001b[0;32m      2\u001b[0m \u001b[0mprint\u001b[0m\u001b[1;33m(\u001b[0m\u001b[0mupd_table_alias\u001b[0m\u001b[1;33m)\u001b[0m\u001b[1;33m\u001b[0m\u001b[0m\n",
      "\u001b[1;31mAttributeError\u001b[0m: 'NoneType' object has no attribute 'group'"
     ]
    }
   ],
   "source": [
    "upd_table_alias = re.search(r'(?<=MASTERCONTRACT)\\s.*\\w.*(?=SELECT)', stmt_part_1, re.S|re.I).group().strip()\n",
    "print(upd_table_alias)"
   ]
  },
  {
   "cell_type": "code",
   "execution_count": null,
   "metadata": {},
   "outputs": [],
   "source": [
    "col_list = newSplit(col_list_str, ',')"
   ]
  }
 ],
 "metadata": {
  "kernelspec": {
   "display_name": "Python 3",
   "language": "python",
   "name": "python3"
  },
  "language_info": {
   "codemirror_mode": {
    "name": "ipython",
    "version": 3
   },
   "file_extension": ".py",
   "mimetype": "text/x-python",
   "name": "python",
   "nbconvert_exporter": "python",
   "pygments_lexer": "ipython3",
   "version": "3.7.0"
  }
 },
 "nbformat": 4,
 "nbformat_minor": 2
}
